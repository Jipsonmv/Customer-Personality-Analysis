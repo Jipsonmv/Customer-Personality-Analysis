{
  "cells": [
    {
      "cell_type": "markdown",
      "id": "8824f7f9",
      "metadata": {
        "id": "8824f7f9"
      },
      "source": [
        "Importing the libraries & Loading data"
      ]
    },
    {
      "cell_type": "code",
      "execution_count": null,
      "id": "07b11ea1",
      "metadata": {
        "scrolled": true,
        "id": "07b11ea1"
      },
      "outputs": [],
      "source": [
        "import pandas as pd\n",
        "import numpy as np\n",
        "import seaborn as sns \n",
        "import matplotlib.pyplot as plt\n",
        "%matplotlib inline\n",
        "\n",
        "data = pd.read_csv('C:\\\\Users\\\\jipso\\\\Downloads\\\\marketing_campaign.csv')"
      ]
    },
    {
      "cell_type": "markdown",
      "id": "d8ad6d8e",
      "metadata": {
        "id": "d8ad6d8e"
      },
      "source": [
        "Exploring Data"
      ]
    },
    {
      "cell_type": "code",
      "execution_count": null,
      "id": "ac63ff46",
      "metadata": {
        "scrolled": true,
        "id": "ac63ff46",
        "outputId": "acf9fef3-7677-44a5-d4fd-b820a18f6f57"
      },
      "outputs": [
        {
          "data": {
            "text/html": [
              "<div>\n",
              "<style scoped>\n",
              "    .dataframe tbody tr th:only-of-type {\n",
              "        vertical-align: middle;\n",
              "    }\n",
              "\n",
              "    .dataframe tbody tr th {\n",
              "        vertical-align: top;\n",
              "    }\n",
              "\n",
              "    .dataframe thead th {\n",
              "        text-align: right;\n",
              "    }\n",
              "</style>\n",
              "<table border=\"1\" class=\"dataframe\">\n",
              "  <thead>\n",
              "    <tr style=\"text-align: right;\">\n",
              "      <th></th>\n",
              "      <th>ID\\tYear_Birth\\tEducation\\tMarital_Status\\tIncome\\tKidhome\\tTeenhome\\tDt_Customer\\tRecency\\tMntWines\\tMntFruits\\tMntMeatProducts\\tMntFishProducts\\tMntSweetProducts\\tMntGoldProds\\tNumDealsPurchases\\tNumWebPurchases\\tNumCatalogPurchases\\tNumStorePurchases\\tNumWebVisitsMonth\\tAcceptedCmp3\\tAcceptedCmp4\\tAcceptedCmp5\\tAcceptedCmp1\\tAcceptedCmp2\\tComplain\\tZ_CostContact\\tZ_Revenue\\tResponse</th>\n",
              "    </tr>\n",
              "  </thead>\n",
              "  <tbody>\n",
              "    <tr>\n",
              "      <th>0</th>\n",
              "      <td>5524\\t1957\\tGraduation\\tSingle\\t58138\\t0\\t0\\t0...</td>\n",
              "    </tr>\n",
              "    <tr>\n",
              "      <th>1</th>\n",
              "      <td>2174\\t1954\\tGraduation\\tSingle\\t46344\\t1\\t1\\t0...</td>\n",
              "    </tr>\n",
              "    <tr>\n",
              "      <th>2</th>\n",
              "      <td>4141\\t1965\\tGraduation\\tTogether\\t71613\\t0\\t0\\...</td>\n",
              "    </tr>\n",
              "    <tr>\n",
              "      <th>3</th>\n",
              "      <td>6182\\t1984\\tGraduation\\tTogether\\t26646\\t1\\t0\\...</td>\n",
              "    </tr>\n",
              "    <tr>\n",
              "      <th>4</th>\n",
              "      <td>5324\\t1981\\tPhD\\tMarried\\t58293\\t1\\t0\\t19-01-2...</td>\n",
              "    </tr>\n",
              "  </tbody>\n",
              "</table>\n",
              "</div>"
            ],
            "text/plain": [
              "  ID\\tYear_Birth\\tEducation\\tMarital_Status\\tIncome\\tKidhome\\tTeenhome\\tDt_Customer\\tRecency\\tMntWines\\tMntFruits\\tMntMeatProducts\\tMntFishProducts\\tMntSweetProducts\\tMntGoldProds\\tNumDealsPurchases\\tNumWebPurchases\\tNumCatalogPurchases\\tNumStorePurchases\\tNumWebVisitsMonth\\tAcceptedCmp3\\tAcceptedCmp4\\tAcceptedCmp5\\tAcceptedCmp1\\tAcceptedCmp2\\tComplain\\tZ_CostContact\\tZ_Revenue\\tResponse\n",
              "0  5524\\t1957\\tGraduation\\tSingle\\t58138\\t0\\t0\\t0...                                                                                                                                                                                                                                                                                                                                                  \n",
              "1  2174\\t1954\\tGraduation\\tSingle\\t46344\\t1\\t1\\t0...                                                                                                                                                                                                                                                                                                                                                  \n",
              "2  4141\\t1965\\tGraduation\\tTogether\\t71613\\t0\\t0\\...                                                                                                                                                                                                                                                                                                                                                  \n",
              "3  6182\\t1984\\tGraduation\\tTogether\\t26646\\t1\\t0\\...                                                                                                                                                                                                                                                                                                                                                  \n",
              "4  5324\\t1981\\tPhD\\tMarried\\t58293\\t1\\t0\\t19-01-2...                                                                                                                                                                                                                                                                                                                                                  "
            ]
          },
          "execution_count": 2,
          "metadata": {},
          "output_type": "execute_result"
        }
      ],
      "source": [
        "data.head()"
      ]
    },
    {
      "cell_type": "code",
      "execution_count": null,
      "id": "69db912b",
      "metadata": {
        "id": "69db912b",
        "outputId": "88fcd7c0-d76a-47eb-ae71-57cfe44e9eb2"
      },
      "outputs": [
        {
          "data": {
            "text/plain": [
              "(2240, 1)"
            ]
          },
          "execution_count": 3,
          "metadata": {},
          "output_type": "execute_result"
        }
      ],
      "source": [
        "data.shape"
      ]
    },
    {
      "cell_type": "markdown",
      "id": "82ca5700",
      "metadata": {
        "id": "82ca5700"
      },
      "source": [
        "Sorting the data to make it easy to work with"
      ]
    },
    {
      "cell_type": "code",
      "execution_count": null,
      "id": "6d84c1db",
      "metadata": {
        "id": "6d84c1db"
      },
      "outputs": [],
      "source": [
        "data = pd.read_csv('C:\\\\Users\\\\jipso\\\\Downloads\\\\marketing_campaign.csv', sep='\\t')"
      ]
    },
    {
      "cell_type": "code",
      "execution_count": null,
      "id": "fc333fe9",
      "metadata": {
        "id": "fc333fe9"
      },
      "outputs": [],
      "source": [
        "df = data.copy()"
      ]
    },
    {
      "cell_type": "code",
      "execution_count": null,
      "id": "da04a8a2",
      "metadata": {
        "id": "da04a8a2",
        "outputId": "b017c047-0907-4195-f44f-dabf13e0bb59"
      },
      "outputs": [
        {
          "data": {
            "text/html": [
              "<div>\n",
              "<style scoped>\n",
              "    .dataframe tbody tr th:only-of-type {\n",
              "        vertical-align: middle;\n",
              "    }\n",
              "\n",
              "    .dataframe tbody tr th {\n",
              "        vertical-align: top;\n",
              "    }\n",
              "\n",
              "    .dataframe thead th {\n",
              "        text-align: right;\n",
              "    }\n",
              "</style>\n",
              "<table border=\"1\" class=\"dataframe\">\n",
              "  <thead>\n",
              "    <tr style=\"text-align: right;\">\n",
              "      <th></th>\n",
              "      <th>ID</th>\n",
              "      <th>Year_Birth</th>\n",
              "      <th>Education</th>\n",
              "      <th>Marital_Status</th>\n",
              "      <th>Income</th>\n",
              "      <th>Kidhome</th>\n",
              "      <th>Teenhome</th>\n",
              "      <th>Dt_Customer</th>\n",
              "      <th>Recency</th>\n",
              "      <th>MntWines</th>\n",
              "      <th>...</th>\n",
              "      <th>NumWebVisitsMonth</th>\n",
              "      <th>AcceptedCmp3</th>\n",
              "      <th>AcceptedCmp4</th>\n",
              "      <th>AcceptedCmp5</th>\n",
              "      <th>AcceptedCmp1</th>\n",
              "      <th>AcceptedCmp2</th>\n",
              "      <th>Complain</th>\n",
              "      <th>Z_CostContact</th>\n",
              "      <th>Z_Revenue</th>\n",
              "      <th>Response</th>\n",
              "    </tr>\n",
              "  </thead>\n",
              "  <tbody>\n",
              "    <tr>\n",
              "      <th>0</th>\n",
              "      <td>5524</td>\n",
              "      <td>1957</td>\n",
              "      <td>Graduation</td>\n",
              "      <td>Single</td>\n",
              "      <td>58138.0</td>\n",
              "      <td>0</td>\n",
              "      <td>0</td>\n",
              "      <td>04-09-2012</td>\n",
              "      <td>58</td>\n",
              "      <td>635</td>\n",
              "      <td>...</td>\n",
              "      <td>7</td>\n",
              "      <td>0</td>\n",
              "      <td>0</td>\n",
              "      <td>0</td>\n",
              "      <td>0</td>\n",
              "      <td>0</td>\n",
              "      <td>0</td>\n",
              "      <td>3</td>\n",
              "      <td>11</td>\n",
              "      <td>1</td>\n",
              "    </tr>\n",
              "    <tr>\n",
              "      <th>1</th>\n",
              "      <td>2174</td>\n",
              "      <td>1954</td>\n",
              "      <td>Graduation</td>\n",
              "      <td>Single</td>\n",
              "      <td>46344.0</td>\n",
              "      <td>1</td>\n",
              "      <td>1</td>\n",
              "      <td>08-03-2014</td>\n",
              "      <td>38</td>\n",
              "      <td>11</td>\n",
              "      <td>...</td>\n",
              "      <td>5</td>\n",
              "      <td>0</td>\n",
              "      <td>0</td>\n",
              "      <td>0</td>\n",
              "      <td>0</td>\n",
              "      <td>0</td>\n",
              "      <td>0</td>\n",
              "      <td>3</td>\n",
              "      <td>11</td>\n",
              "      <td>0</td>\n",
              "    </tr>\n",
              "    <tr>\n",
              "      <th>2</th>\n",
              "      <td>4141</td>\n",
              "      <td>1965</td>\n",
              "      <td>Graduation</td>\n",
              "      <td>Together</td>\n",
              "      <td>71613.0</td>\n",
              "      <td>0</td>\n",
              "      <td>0</td>\n",
              "      <td>21-08-2013</td>\n",
              "      <td>26</td>\n",
              "      <td>426</td>\n",
              "      <td>...</td>\n",
              "      <td>4</td>\n",
              "      <td>0</td>\n",
              "      <td>0</td>\n",
              "      <td>0</td>\n",
              "      <td>0</td>\n",
              "      <td>0</td>\n",
              "      <td>0</td>\n",
              "      <td>3</td>\n",
              "      <td>11</td>\n",
              "      <td>0</td>\n",
              "    </tr>\n",
              "    <tr>\n",
              "      <th>3</th>\n",
              "      <td>6182</td>\n",
              "      <td>1984</td>\n",
              "      <td>Graduation</td>\n",
              "      <td>Together</td>\n",
              "      <td>26646.0</td>\n",
              "      <td>1</td>\n",
              "      <td>0</td>\n",
              "      <td>10-02-2014</td>\n",
              "      <td>26</td>\n",
              "      <td>11</td>\n",
              "      <td>...</td>\n",
              "      <td>6</td>\n",
              "      <td>0</td>\n",
              "      <td>0</td>\n",
              "      <td>0</td>\n",
              "      <td>0</td>\n",
              "      <td>0</td>\n",
              "      <td>0</td>\n",
              "      <td>3</td>\n",
              "      <td>11</td>\n",
              "      <td>0</td>\n",
              "    </tr>\n",
              "    <tr>\n",
              "      <th>4</th>\n",
              "      <td>5324</td>\n",
              "      <td>1981</td>\n",
              "      <td>PhD</td>\n",
              "      <td>Married</td>\n",
              "      <td>58293.0</td>\n",
              "      <td>1</td>\n",
              "      <td>0</td>\n",
              "      <td>19-01-2014</td>\n",
              "      <td>94</td>\n",
              "      <td>173</td>\n",
              "      <td>...</td>\n",
              "      <td>5</td>\n",
              "      <td>0</td>\n",
              "      <td>0</td>\n",
              "      <td>0</td>\n",
              "      <td>0</td>\n",
              "      <td>0</td>\n",
              "      <td>0</td>\n",
              "      <td>3</td>\n",
              "      <td>11</td>\n",
              "      <td>0</td>\n",
              "    </tr>\n",
              "  </tbody>\n",
              "</table>\n",
              "<p>5 rows × 29 columns</p>\n",
              "</div>"
            ],
            "text/plain": [
              "     ID  Year_Birth   Education Marital_Status   Income  Kidhome  Teenhome  \\\n",
              "0  5524        1957  Graduation         Single  58138.0        0         0   \n",
              "1  2174        1954  Graduation         Single  46344.0        1         1   \n",
              "2  4141        1965  Graduation       Together  71613.0        0         0   \n",
              "3  6182        1984  Graduation       Together  26646.0        1         0   \n",
              "4  5324        1981         PhD        Married  58293.0        1         0   \n",
              "\n",
              "  Dt_Customer  Recency  MntWines  ...  NumWebVisitsMonth  AcceptedCmp3  \\\n",
              "0  04-09-2012       58       635  ...                  7             0   \n",
              "1  08-03-2014       38        11  ...                  5             0   \n",
              "2  21-08-2013       26       426  ...                  4             0   \n",
              "3  10-02-2014       26        11  ...                  6             0   \n",
              "4  19-01-2014       94       173  ...                  5             0   \n",
              "\n",
              "   AcceptedCmp4  AcceptedCmp5  AcceptedCmp1  AcceptedCmp2  Complain  \\\n",
              "0             0             0             0             0         0   \n",
              "1             0             0             0             0         0   \n",
              "2             0             0             0             0         0   \n",
              "3             0             0             0             0         0   \n",
              "4             0             0             0             0         0   \n",
              "\n",
              "   Z_CostContact  Z_Revenue  Response  \n",
              "0              3         11         1  \n",
              "1              3         11         0  \n",
              "2              3         11         0  \n",
              "3              3         11         0  \n",
              "4              3         11         0  \n",
              "\n",
              "[5 rows x 29 columns]"
            ]
          },
          "execution_count": 6,
          "metadata": {},
          "output_type": "execute_result"
        }
      ],
      "source": [
        "df.head()"
      ]
    },
    {
      "cell_type": "code",
      "execution_count": null,
      "id": "f3254bca",
      "metadata": {
        "id": "f3254bca",
        "outputId": "529284f7-2462-4fc3-a617-41a45a5a47f6"
      },
      "outputs": [
        {
          "data": {
            "text/plain": [
              "(2240, 29)"
            ]
          },
          "execution_count": 7,
          "metadata": {},
          "output_type": "execute_result"
        }
      ],
      "source": [
        "df.shape"
      ]
    },
    {
      "cell_type": "code",
      "execution_count": null,
      "id": "c2fb1d41",
      "metadata": {
        "id": "c2fb1d41",
        "outputId": "477121c1-4424-493c-93ff-d7e762805c34"
      },
      "outputs": [
        {
          "name": "stdout",
          "output_type": "stream",
          "text": [
            "<class 'pandas.core.frame.DataFrame'>\n",
            "RangeIndex: 2240 entries, 0 to 2239\n",
            "Data columns (total 29 columns):\n",
            " #   Column               Non-Null Count  Dtype  \n",
            "---  ------               --------------  -----  \n",
            " 0   ID                   2240 non-null   int64  \n",
            " 1   Year_Birth           2240 non-null   int64  \n",
            " 2   Education            2240 non-null   object \n",
            " 3   Marital_Status       2240 non-null   object \n",
            " 4   Income               2216 non-null   float64\n",
            " 5   Kidhome              2240 non-null   int64  \n",
            " 6   Teenhome             2240 non-null   int64  \n",
            " 7   Dt_Customer          2240 non-null   object \n",
            " 8   Recency              2240 non-null   int64  \n",
            " 9   MntWines             2240 non-null   int64  \n",
            " 10  MntFruits            2240 non-null   int64  \n",
            " 11  MntMeatProducts      2240 non-null   int64  \n",
            " 12  MntFishProducts      2240 non-null   int64  \n",
            " 13  MntSweetProducts     2240 non-null   int64  \n",
            " 14  MntGoldProds         2240 non-null   int64  \n",
            " 15  NumDealsPurchases    2240 non-null   int64  \n",
            " 16  NumWebPurchases      2240 non-null   int64  \n",
            " 17  NumCatalogPurchases  2240 non-null   int64  \n",
            " 18  NumStorePurchases    2240 non-null   int64  \n",
            " 19  NumWebVisitsMonth    2240 non-null   int64  \n",
            " 20  AcceptedCmp3         2240 non-null   int64  \n",
            " 21  AcceptedCmp4         2240 non-null   int64  \n",
            " 22  AcceptedCmp5         2240 non-null   int64  \n",
            " 23  AcceptedCmp1         2240 non-null   int64  \n",
            " 24  AcceptedCmp2         2240 non-null   int64  \n",
            " 25  Complain             2240 non-null   int64  \n",
            " 26  Z_CostContact        2240 non-null   int64  \n",
            " 27  Z_Revenue            2240 non-null   int64  \n",
            " 28  Response             2240 non-null   int64  \n",
            "dtypes: float64(1), int64(25), object(3)\n",
            "memory usage: 507.6+ KB\n"
          ]
        }
      ],
      "source": [
        "df.info()"
      ]
    },
    {
      "cell_type": "markdown",
      "id": "ba056286",
      "metadata": {
        "id": "ba056286"
      },
      "source": [
        "Dropping column ID"
      ]
    },
    {
      "cell_type": "code",
      "execution_count": null,
      "id": "1b92978f",
      "metadata": {
        "id": "1b92978f"
      },
      "outputs": [],
      "source": [
        "df.drop(['ID'],axis = 1,inplace = True)"
      ]
    },
    {
      "cell_type": "markdown",
      "id": "3dfe4785",
      "metadata": {
        "id": "3dfe4785"
      },
      "source": [
        "Checking the Unique Values"
      ]
    },
    {
      "cell_type": "code",
      "execution_count": null,
      "id": "2f442685",
      "metadata": {
        "id": "2f442685",
        "outputId": "f52dddb0-2836-4d12-93a4-353f407914f1"
      },
      "outputs": [
        {
          "data": {
            "text/plain": [
              "array([1957, 1954, 1965, 1984, 1981, 1967, 1971, 1985, 1974, 1950, 1983,\n",
              "       1976, 1959, 1952, 1987, 1946, 1980, 1949, 1982, 1979, 1951, 1969,\n",
              "       1986, 1989, 1963, 1970, 1973, 1943, 1975, 1996, 1968, 1964, 1977,\n",
              "       1978, 1955, 1966, 1988, 1948, 1958, 1972, 1960, 1945, 1991, 1962,\n",
              "       1953, 1961, 1956, 1992, 1900, 1893, 1990, 1947, 1899, 1993, 1994,\n",
              "       1941, 1944, 1995, 1940], dtype=int64)"
            ]
          },
          "execution_count": 10,
          "metadata": {},
          "output_type": "execute_result"
        }
      ],
      "source": [
        "df['Year_Birth'].unique()"
      ]
    },
    {
      "cell_type": "code",
      "execution_count": null,
      "id": "62ef3372",
      "metadata": {
        "id": "62ef3372",
        "outputId": "0416221b-eecf-4eef-e494-9d61c1b3f31b"
      },
      "outputs": [
        {
          "data": {
            "text/plain": [
              "array(['Graduation', 'PhD', 'Master', 'Basic', '2n Cycle'], dtype=object)"
            ]
          },
          "execution_count": 11,
          "metadata": {},
          "output_type": "execute_result"
        }
      ],
      "source": [
        "df['Education'].unique()"
      ]
    },
    {
      "cell_type": "markdown",
      "id": "ea3f9d30",
      "metadata": {
        "id": "ea3f9d30"
      },
      "source": [
        "Replacing Education column with appropriate values"
      ]
    },
    {
      "cell_type": "code",
      "execution_count": null,
      "id": "c097c17b",
      "metadata": {
        "id": "c097c17b"
      },
      "outputs": [],
      "source": [
        "df['Education']=df['Education'].replace({'Basic':'Undergraduate','2n Cycle':'Undergraduate','Graduation':'Postgraduate','Master':'Postgraduate','PhD':'Postgraduate'})"
      ]
    },
    {
      "cell_type": "code",
      "execution_count": null,
      "id": "0d8a9628",
      "metadata": {
        "id": "0d8a9628",
        "outputId": "3f76f9c0-a09c-4ea3-aa71-f75a6a83fe8d"
      },
      "outputs": [
        {
          "data": {
            "text/plain": [
              "array(['Single', 'Together', 'Married', 'Divorced', 'Widow', 'Alone',\n",
              "       'Absurd', 'YOLO'], dtype=object)"
            ]
          },
          "execution_count": 13,
          "metadata": {},
          "output_type": "execute_result"
        }
      ],
      "source": [
        "df['Marital_Status'].unique()"
      ]
    },
    {
      "cell_type": "markdown",
      "id": "663352b7",
      "metadata": {
        "id": "663352b7"
      },
      "source": [
        "Replacing Marital Status column with appropriate values"
      ]
    },
    {
      "cell_type": "code",
      "execution_count": null,
      "id": "4a13f7bb",
      "metadata": {
        "id": "4a13f7bb"
      },
      "outputs": [],
      "source": [
        "df['Marital_Status'] = df['Marital_Status'].replace({'Divorced':'Single','Widow':'Single','Alone':'Single','Absurd':'Single','YOLO':'Single','Together':'Married'})"
      ]
    },
    {
      "cell_type": "code",
      "execution_count": null,
      "id": "e7830c13",
      "metadata": {
        "id": "e7830c13",
        "outputId": "ffebc04e-34bd-40e9-f77a-6524fb426e82"
      },
      "outputs": [
        {
          "data": {
            "text/plain": [
              "array([58138., 46344., 71613., ..., 56981., 69245., 52869.])"
            ]
          },
          "execution_count": 15,
          "metadata": {},
          "output_type": "execute_result"
        }
      ],
      "source": [
        "df['Income'].unique()"
      ]
    },
    {
      "cell_type": "code",
      "execution_count": null,
      "id": "2ba2cbe7",
      "metadata": {
        "id": "2ba2cbe7",
        "outputId": "c4b4075d-ffa6-49ab-9a1c-92f473fcf8de"
      },
      "outputs": [
        {
          "data": {
            "text/plain": [
              "array([0, 1, 2], dtype=int64)"
            ]
          },
          "execution_count": 16,
          "metadata": {},
          "output_type": "execute_result"
        }
      ],
      "source": [
        "df['Kidhome'].unique()"
      ]
    },
    {
      "cell_type": "code",
      "execution_count": null,
      "id": "055fc3ce",
      "metadata": {
        "id": "055fc3ce",
        "outputId": "703c40f7-ba43-49e6-d7ee-038ba5c0a187"
      },
      "outputs": [
        {
          "data": {
            "text/plain": [
              "array([0, 1, 2], dtype=int64)"
            ]
          },
          "execution_count": 17,
          "metadata": {},
          "output_type": "execute_result"
        }
      ],
      "source": [
        "df[\"Teenhome\"].unique()"
      ]
    },
    {
      "cell_type": "markdown",
      "id": "9a255572",
      "metadata": {
        "id": "9a255572"
      },
      "source": [
        "Adding the above two columns together"
      ]
    },
    {
      "cell_type": "code",
      "execution_count": null,
      "id": "54b5a777",
      "metadata": {
        "id": "54b5a777",
        "outputId": "4b88b7df-e5e2-4cb5-ab22-ed6e9296b5a0"
      },
      "outputs": [
        {
          "data": {
            "text/plain": [
              "array([0, 2, 1, 3], dtype=int64)"
            ]
          },
          "execution_count": 18,
          "metadata": {},
          "output_type": "execute_result"
        }
      ],
      "source": [
        "sum_column = df['Kidhome']+df['Teenhome']\n",
        "df[\"kidshome\"] = sum_column\n",
        "df[\"kidshome\"].unique()"
      ]
    },
    {
      "cell_type": "code",
      "execution_count": null,
      "id": "e594a35f",
      "metadata": {
        "id": "e594a35f"
      },
      "outputs": [],
      "source": [
        "df.drop([\"Teenhome\"],axis = 1, inplace=True)"
      ]
    },
    {
      "cell_type": "code",
      "execution_count": null,
      "id": "7003821f",
      "metadata": {
        "id": "7003821f"
      },
      "outputs": [],
      "source": [
        "df.drop([\"Kidhome\"],axis = 1,inplace = True)"
      ]
    },
    {
      "cell_type": "code",
      "execution_count": null,
      "id": "a74cdeb9",
      "metadata": {
        "id": "a74cdeb9",
        "outputId": "14ba5fd1-2b37-44c3-81a9-ee8ecb993bb0"
      },
      "outputs": [
        {
          "data": {
            "text/html": [
              "<div>\n",
              "<style scoped>\n",
              "    .dataframe tbody tr th:only-of-type {\n",
              "        vertical-align: middle;\n",
              "    }\n",
              "\n",
              "    .dataframe tbody tr th {\n",
              "        vertical-align: top;\n",
              "    }\n",
              "\n",
              "    .dataframe thead th {\n",
              "        text-align: right;\n",
              "    }\n",
              "</style>\n",
              "<table border=\"1\" class=\"dataframe\">\n",
              "  <thead>\n",
              "    <tr style=\"text-align: right;\">\n",
              "      <th></th>\n",
              "      <th>Year_Birth</th>\n",
              "      <th>Education</th>\n",
              "      <th>Marital_Status</th>\n",
              "      <th>Income</th>\n",
              "      <th>Dt_Customer</th>\n",
              "      <th>Recency</th>\n",
              "      <th>MntWines</th>\n",
              "      <th>MntFruits</th>\n",
              "      <th>MntMeatProducts</th>\n",
              "      <th>MntFishProducts</th>\n",
              "      <th>...</th>\n",
              "      <th>AcceptedCmp3</th>\n",
              "      <th>AcceptedCmp4</th>\n",
              "      <th>AcceptedCmp5</th>\n",
              "      <th>AcceptedCmp1</th>\n",
              "      <th>AcceptedCmp2</th>\n",
              "      <th>Complain</th>\n",
              "      <th>Z_CostContact</th>\n",
              "      <th>Z_Revenue</th>\n",
              "      <th>Response</th>\n",
              "      <th>kidshome</th>\n",
              "    </tr>\n",
              "  </thead>\n",
              "  <tbody>\n",
              "    <tr>\n",
              "      <th>0</th>\n",
              "      <td>1957</td>\n",
              "      <td>Postgraduate</td>\n",
              "      <td>Single</td>\n",
              "      <td>58138.0</td>\n",
              "      <td>04-09-2012</td>\n",
              "      <td>58</td>\n",
              "      <td>635</td>\n",
              "      <td>88</td>\n",
              "      <td>546</td>\n",
              "      <td>172</td>\n",
              "      <td>...</td>\n",
              "      <td>0</td>\n",
              "      <td>0</td>\n",
              "      <td>0</td>\n",
              "      <td>0</td>\n",
              "      <td>0</td>\n",
              "      <td>0</td>\n",
              "      <td>3</td>\n",
              "      <td>11</td>\n",
              "      <td>1</td>\n",
              "      <td>0</td>\n",
              "    </tr>\n",
              "    <tr>\n",
              "      <th>1</th>\n",
              "      <td>1954</td>\n",
              "      <td>Postgraduate</td>\n",
              "      <td>Single</td>\n",
              "      <td>46344.0</td>\n",
              "      <td>08-03-2014</td>\n",
              "      <td>38</td>\n",
              "      <td>11</td>\n",
              "      <td>1</td>\n",
              "      <td>6</td>\n",
              "      <td>2</td>\n",
              "      <td>...</td>\n",
              "      <td>0</td>\n",
              "      <td>0</td>\n",
              "      <td>0</td>\n",
              "      <td>0</td>\n",
              "      <td>0</td>\n",
              "      <td>0</td>\n",
              "      <td>3</td>\n",
              "      <td>11</td>\n",
              "      <td>0</td>\n",
              "      <td>2</td>\n",
              "    </tr>\n",
              "    <tr>\n",
              "      <th>2</th>\n",
              "      <td>1965</td>\n",
              "      <td>Postgraduate</td>\n",
              "      <td>Married</td>\n",
              "      <td>71613.0</td>\n",
              "      <td>21-08-2013</td>\n",
              "      <td>26</td>\n",
              "      <td>426</td>\n",
              "      <td>49</td>\n",
              "      <td>127</td>\n",
              "      <td>111</td>\n",
              "      <td>...</td>\n",
              "      <td>0</td>\n",
              "      <td>0</td>\n",
              "      <td>0</td>\n",
              "      <td>0</td>\n",
              "      <td>0</td>\n",
              "      <td>0</td>\n",
              "      <td>3</td>\n",
              "      <td>11</td>\n",
              "      <td>0</td>\n",
              "      <td>0</td>\n",
              "    </tr>\n",
              "    <tr>\n",
              "      <th>3</th>\n",
              "      <td>1984</td>\n",
              "      <td>Postgraduate</td>\n",
              "      <td>Married</td>\n",
              "      <td>26646.0</td>\n",
              "      <td>10-02-2014</td>\n",
              "      <td>26</td>\n",
              "      <td>11</td>\n",
              "      <td>4</td>\n",
              "      <td>20</td>\n",
              "      <td>10</td>\n",
              "      <td>...</td>\n",
              "      <td>0</td>\n",
              "      <td>0</td>\n",
              "      <td>0</td>\n",
              "      <td>0</td>\n",
              "      <td>0</td>\n",
              "      <td>0</td>\n",
              "      <td>3</td>\n",
              "      <td>11</td>\n",
              "      <td>0</td>\n",
              "      <td>1</td>\n",
              "    </tr>\n",
              "    <tr>\n",
              "      <th>4</th>\n",
              "      <td>1981</td>\n",
              "      <td>Postgraduate</td>\n",
              "      <td>Married</td>\n",
              "      <td>58293.0</td>\n",
              "      <td>19-01-2014</td>\n",
              "      <td>94</td>\n",
              "      <td>173</td>\n",
              "      <td>43</td>\n",
              "      <td>118</td>\n",
              "      <td>46</td>\n",
              "      <td>...</td>\n",
              "      <td>0</td>\n",
              "      <td>0</td>\n",
              "      <td>0</td>\n",
              "      <td>0</td>\n",
              "      <td>0</td>\n",
              "      <td>0</td>\n",
              "      <td>3</td>\n",
              "      <td>11</td>\n",
              "      <td>0</td>\n",
              "      <td>1</td>\n",
              "    </tr>\n",
              "  </tbody>\n",
              "</table>\n",
              "<p>5 rows × 27 columns</p>\n",
              "</div>"
            ],
            "text/plain": [
              "   Year_Birth     Education Marital_Status   Income Dt_Customer  Recency  \\\n",
              "0        1957  Postgraduate         Single  58138.0  04-09-2012       58   \n",
              "1        1954  Postgraduate         Single  46344.0  08-03-2014       38   \n",
              "2        1965  Postgraduate        Married  71613.0  21-08-2013       26   \n",
              "3        1984  Postgraduate        Married  26646.0  10-02-2014       26   \n",
              "4        1981  Postgraduate        Married  58293.0  19-01-2014       94   \n",
              "\n",
              "   MntWines  MntFruits  MntMeatProducts  MntFishProducts  ...  AcceptedCmp3  \\\n",
              "0       635         88              546              172  ...             0   \n",
              "1        11          1                6                2  ...             0   \n",
              "2       426         49              127              111  ...             0   \n",
              "3        11          4               20               10  ...             0   \n",
              "4       173         43              118               46  ...             0   \n",
              "\n",
              "   AcceptedCmp4  AcceptedCmp5  AcceptedCmp1  AcceptedCmp2  Complain  \\\n",
              "0             0             0             0             0         0   \n",
              "1             0             0             0             0         0   \n",
              "2             0             0             0             0         0   \n",
              "3             0             0             0             0         0   \n",
              "4             0             0             0             0         0   \n",
              "\n",
              "   Z_CostContact  Z_Revenue  Response  kidshome  \n",
              "0              3         11         1         0  \n",
              "1              3         11         0         2  \n",
              "2              3         11         0         0  \n",
              "3              3         11         0         1  \n",
              "4              3         11         0         1  \n",
              "\n",
              "[5 rows x 27 columns]"
            ]
          },
          "execution_count": 21,
          "metadata": {},
          "output_type": "execute_result"
        }
      ],
      "source": [
        "df.head()"
      ]
    },
    {
      "cell_type": "code",
      "execution_count": null,
      "id": "c39c5ca3",
      "metadata": {
        "id": "c39c5ca3",
        "outputId": "30cd2d59-1c9b-4a10-f0e7-1e18a6eb62a3"
      },
      "outputs": [
        {
          "data": {
            "text/plain": [
              "array(['04-09-2012', '08-03-2014', '21-08-2013', '10-02-2014',\n",
              "       '19-01-2014', '09-09-2013', '13-11-2012', '08-05-2013',\n",
              "       '06-06-2013', '13-03-2014', '15-11-2013', '10-10-2012',\n",
              "       '24-11-2012', '24-12-2012', '31-08-2012', '28-03-2013',\n",
              "       '03-11-2012', '08-08-2012', '06-01-2013', '23-12-2012',\n",
              "       '11-01-2014', '18-03-2013', '02-01-2013', '27-05-2013',\n",
              "       '20-02-2013', '31-05-2013', '22-11-2013', '22-05-2014',\n",
              "       '11-05-2013', '29-10-2012', '29-08-2013', '31-12-2013',\n",
              "       '02-09-2013', '11-02-2014', '01-02-2013', '29-04-2013',\n",
              "       '12-03-2013', '05-11-2013', '02-10-2013', '28-06-2014',\n",
              "       '09-11-2012', '24-05-2013', '01-01-2014', '08-11-2012',\n",
              "       '12-05-2014', '11-08-2012', '07-06-2014', '12-06-2013',\n",
              "       '19-11-2012', '02-04-2013', '28-04-2014', '17-06-2013',\n",
              "       '03-03-2014', '04-07-2013', '07-09-2012', '18-02-2013',\n",
              "       '11-06-2013', '06-12-2013', '21-05-2013', '11-05-2014',\n",
              "       '19-03-2014', '27-09-2013', '08-04-2013', '11-09-2012',\n",
              "       '14-09-2012', '17-03-2013', '05-04-2013', '30-04-2014',\n",
              "       '19-12-2012', '27-08-2012', '12-10-2012', '04-09-2013',\n",
              "       '29-08-2012', '23-06-2013', '03-07-2013', '25-02-2014',\n",
              "       '11-08-2013', '16-07-2013', '28-05-2014', '21-01-2014',\n",
              "       '27-05-2014', '23-11-2013', '23-03-2014', '24-05-2014',\n",
              "       '22-11-2012', '11-04-2013', '01-12-2013', '20-06-2013',\n",
              "       '23-07-2013', '30-03-2014', '20-04-2013', '17-05-2013',\n",
              "       '08-05-2014', '10-12-2013', '24-09-2013', '02-02-2013',\n",
              "       '07-12-2012', '02-11-2013', '10-11-2012', '25-06-2014',\n",
              "       '12-12-2012', '10-09-2013', '24-01-2014', '19-02-2013',\n",
              "       '11-07-2013', '14-11-2013', '24-02-2014', '22-04-2013',\n",
              "       '21-04-2013', '08-06-2014', '10-05-2014', '30-09-2013',\n",
              "       '10-03-2013', '14-08-2013', '07-07-2013', '19-05-2014',\n",
              "       '28-07-2013', '19-10-2012', '19-04-2013', '28-08-2013',\n",
              "       '19-03-2013', '18-10-2012', '28-10-2012', '22-08-2012',\n",
              "       '21-06-2014', '24-04-2014', '07-03-2014', '14-12-2012',\n",
              "       '09-10-2012', '08-07-2013', '12-09-2013', '17-10-2013',\n",
              "       '20-08-2013', '01-07-2013', '05-11-2012', '05-01-2014',\n",
              "       '01-05-2013', '01-03-2014', '13-11-2013', '18-11-2013',\n",
              "       '21-04-2014', '13-07-2013', '30-01-2014', '04-04-2014',\n",
              "       '12-09-2012', '16-12-2012', '23-05-2014', '24-06-2014',\n",
              "       '28-09-2013', '22-01-2014', '15-06-2014', '05-12-2012',\n",
              "       '02-08-2013', '23-02-2013', '09-09-2012', '26-09-2013',\n",
              "       '30-05-2013', '29-12-2013', '13-05-2014', '19-09-2013',\n",
              "       '17-01-2013', '31-03-2014', '29-06-2014', '09-12-2013',\n",
              "       '14-10-2013', '02-11-2012', '17-07-2013', '08-12-2013',\n",
              "       '13-05-2013', '10-09-2012', '31-03-2013', '18-03-2014',\n",
              "       '05-10-2012', '21-01-2013', '04-05-2013', '01-04-2014',\n",
              "       '31-08-2013', '14-11-2012', '11-04-2014', '14-04-2014',\n",
              "       '05-01-2013', '08-09-2012', '26-03-2013', '25-10-2012',\n",
              "       '09-12-2012', '16-02-2014', '20-03-2013', '15-05-2013',\n",
              "       '16-04-2014', '23-03-2013', '04-12-2013', '04-10-2013',\n",
              "       '26-12-2013', '17-05-2014', '28-10-2013', '31-07-2013',\n",
              "       '28-11-2013', '17-08-2012', '05-06-2014', '20-05-2013',\n",
              "       '09-01-2013', '16-09-2013', '27-10-2013', '22-09-2012',\n",
              "       '13-10-2012', '16-10-2012', '22-10-2012', '04-06-2013',\n",
              "       '22-05-2013', '17-06-2014', '23-11-2012', '03-02-2013',\n",
              "       '14-03-2013', '26-06-2014', '15-10-2012', '19-06-2013',\n",
              "       '20-03-2014', '04-02-2014', '06-04-2014', '06-02-2013',\n",
              "       '11-02-2013', '17-04-2014', '12-07-2013', '29-01-2013',\n",
              "       '08-01-2013', '13-06-2013', '27-12-2013', '31-10-2012',\n",
              "       '15-01-2014', '23-08-2012', '07-03-2013', '13-01-2013',\n",
              "       '12-01-2013', '17-03-2014', '12-10-2013', '13-04-2014',\n",
              "       '18-09-2012', '05-03-2014', '27-04-2013', '18-01-2014',\n",
              "       '03-06-2013', '17-12-2013', '11-03-2014', '29-07-2013',\n",
              "       '14-08-2012', '23-08-2013', '09-02-2014', '07-02-2013',\n",
              "       '11-01-2013', '05-07-2013', '02-07-2013', '07-11-2013',\n",
              "       '09-05-2013', '13-02-2013', '16-04-2013', '11-09-2013',\n",
              "       '03-04-2013', '10-01-2013', '30-06-2013', '06-12-2012',\n",
              "       '12-11-2012', '03-03-2013', '10-08-2012', '07-12-2013',\n",
              "       '15-08-2013', '10-11-2013', '16-06-2014', '25-12-2012',\n",
              "       '03-01-2014', '27-10-2012', '22-12-2012', '29-11-2013',\n",
              "       '08-10-2013', '28-09-2012', '22-03-2014', '28-12-2012',\n",
              "       '21-08-2012', '16-03-2013', '17-11-2012', '01-12-2012',\n",
              "       '22-04-2014', '11-11-2012', '22-06-2013', '18-08-2012',\n",
              "       '30-12-2012', '14-06-2013', '16-10-2013', '30-08-2012',\n",
              "       '04-05-2014', '18-04-2013', '06-10-2013', '15-09-2012',\n",
              "       '27-09-2012', '11-03-2013', '22-10-2013', '09-06-2014',\n",
              "       '30-05-2014', '17-10-2012', '30-03-2013', '23-01-2013',\n",
              "       '20-11-2013', '14-02-2014', '22-02-2013', '05-03-2013',\n",
              "       '06-05-2014', '13-04-2013', '05-04-2014', '25-04-2013',\n",
              "       '25-11-2013', '02-02-2014', '21-06-2013', '21-12-2013',\n",
              "       '07-09-2013', '22-08-2013', '20-12-2013', '06-08-2013',\n",
              "       '09-10-2013', '09-06-2013', '22-12-2013', '02-05-2013',\n",
              "       '16-02-2013', '20-08-2012', '01-04-2013', '25-05-2014',\n",
              "       '25-09-2012', '22-09-2013', '28-01-2014', '23-04-2013',\n",
              "       '06-03-2014', '15-08-2012', '27-03-2013', '10-10-2013',\n",
              "       '04-08-2012', '18-05-2014', '09-05-2014', '23-10-2012',\n",
              "       '30-12-2013', '19-08-2012', '30-10-2013', '26-06-2013',\n",
              "       '26-01-2014', '24-09-2012', '03-12-2012', '27-11-2013',\n",
              "       '06-08-2012', '29-12-2012', '24-08-2012', '07-11-2012',\n",
              "       '02-12-2013', '19-07-2013', '25-05-2013', '20-10-2013',\n",
              "       '14-04-2013', '27-01-2014', '16-08-2013', '30-09-2012',\n",
              "       '04-12-2012', '12-08-2012', '03-11-2013', '15-02-2013',\n",
              "       '18-09-2013', '18-06-2014', '24-04-2013', '15-02-2014',\n",
              "       '08-08-2013', '23-12-2013', '28-11-2012', '07-08-2013',\n",
              "       '07-01-2014', '03-12-2013', '29-03-2014', '08-04-2014',\n",
              "       '07-02-2014', '06-11-2013', '01-03-2013', '03-08-2013',\n",
              "       '16-06-2013', '25-06-2013', '13-09-2013', '01-08-2013',\n",
              "       '31-01-2013', '09-07-2013', '15-04-2013', '03-04-2014',\n",
              "       '18-04-2014', '23-09-2012', '14-09-2013', '26-10-2012',\n",
              "       '19-10-2013', '21-02-2013', '17-09-2013', '26-01-2013',\n",
              "       '07-05-2014', '19-08-2013', '18-07-2013', '11-12-2012',\n",
              "       '26-07-2013', '06-05-2013', '14-07-2013', '10-03-2014',\n",
              "       '28-12-2013', '20-01-2013', '21-09-2012', '06-09-2012',\n",
              "       '18-12-2012', '19-11-2013', '13-06-2014', '07-05-2013',\n",
              "       '18-08-2013', '13-12-2013', '17-02-2014', '03-08-2012',\n",
              "       '04-01-2014', '21-10-2013', '25-12-2013', '01-01-2013',\n",
              "       '16-05-2013', '25-09-2013', '08-11-2013', '16-12-2013',\n",
              "       '30-10-2012', '02-01-2014', '18-10-2013', '25-07-2013',\n",
              "       '24-10-2013', '19-12-2013', '16-05-2014', '04-10-2012',\n",
              "       '25-08-2013', '29-05-2013', '26-03-2014', '09-04-2014',\n",
              "       '12-03-2014', '29-04-2014', '27-06-2014', '10-04-2013',\n",
              "       '21-11-2013', '21-10-2012', '14-05-2013', '01-08-2012',\n",
              "       '25-01-2014', '11-10-2013', '07-08-2012', '29-03-2013',\n",
              "       '03-06-2014', '09-08-2012', '06-03-2013', '12-05-2013',\n",
              "       '09-03-2014', '15-09-2013', '29-01-2014', '03-10-2013',\n",
              "       '28-02-2013', '02-05-2014', '09-02-2013', '15-03-2013',\n",
              "       '10-05-2013', '05-09-2012', '01-09-2013', '26-05-2013',\n",
              "       '12-12-2013', '08-12-2012', '30-08-2013', '18-12-2013',\n",
              "       '18-06-2013', '29-05-2014', '15-01-2013', '29-10-2013',\n",
              "       '02-03-2013', '14-12-2013', '19-01-2013', '06-04-2013',\n",
              "       '04-11-2013', '22-03-2013', '31-05-2014', '04-02-2013',\n",
              "       '05-05-2013', '14-02-2013', '21-03-2014', '05-08-2013',\n",
              "       '29-11-2012', '27-07-2013', '13-01-2014', '29-09-2012',\n",
              "       '23-10-2013', '06-11-2012', '26-05-2014', '04-03-2014',\n",
              "       '06-01-2014', '11-06-2014', '19-06-2014', '26-11-2012',\n",
              "       '11-12-2013', '14-01-2014', '23-01-2014', '24-03-2013',\n",
              "       '29-06-2013', '25-01-2013', '17-11-2013', '18-05-2013',\n",
              "       '17-04-2013', '24-01-2013', '09-08-2013', '10-06-2013',\n",
              "       '20-07-2013', '28-05-2013', '04-03-2013', '01-10-2012',\n",
              "       '10-02-2013', '14-10-2012', '03-02-2014', '22-06-2014',\n",
              "       '25-10-2013', '18-02-2014', '09-11-2013', '13-08-2013',\n",
              "       '25-08-2012', '19-04-2014', '07-04-2014', '03-01-2013',\n",
              "       '04-11-2012', '22-01-2013', '26-02-2014', '23-04-2014',\n",
              "       '30-07-2013', '13-10-2013', '27-11-2012', '01-05-2014',\n",
              "       '30-11-2012', '17-08-2013', '04-01-2013', '03-05-2014',\n",
              "       '26-04-2014', '02-06-2014', '26-10-2013', '24-03-2014',\n",
              "       '25-02-2013', '20-09-2013', '16-01-2013', '24-12-2013',\n",
              "       '18-11-2012', '05-08-2012', '03-05-2013', '12-11-2013',\n",
              "       '06-07-2013', '21-07-2013', '20-10-2012', '23-05-2013',\n",
              "       '26-08-2012', '12-01-2014', '13-02-2014', '27-02-2014',\n",
              "       '20-04-2014', '28-06-2013', '28-04-2013', '21-03-2013',\n",
              "       '27-08-2013', '30-07-2012', '05-12-2013', '08-02-2013',\n",
              "       '21-11-2012', '26-02-2013', '20-09-2012', '08-06-2013',\n",
              "       '05-09-2013', '12-04-2014', '24-06-2013', '19-02-2014',\n",
              "       '27-12-2012', '01-11-2012', '22-07-2013', '31-01-2014',\n",
              "       '26-08-2013', '01-10-2013', '10-06-2014', '01-02-2014',\n",
              "       '03-09-2012', '26-09-2012', '31-07-2012', '02-12-2012',\n",
              "       '05-05-2014', '06-10-2012', '02-03-2014', '15-05-2014',\n",
              "       '10-12-2012', '13-08-2012', '23-02-2014', '16-03-2014',\n",
              "       '21-09-2013', '24-10-2012', '15-10-2013', '17-02-2013',\n",
              "       '28-08-2012', '12-02-2014', '08-02-2014', '01-09-2012',\n",
              "       '16-11-2012', '12-02-2013', '02-08-2012', '16-08-2012',\n",
              "       '25-11-2012', '27-04-2014', '30-04-2013', '20-11-2012',\n",
              "       '14-06-2014', '28-03-2014', '08-03-2013', '02-09-2012',\n",
              "       '15-04-2014', '25-04-2014', '27-06-2013', '01-06-2013',\n",
              "       '05-10-2013', '22-02-2014', '12-04-2013', '23-09-2013',\n",
              "       '24-07-2013', '23-06-2014', '10-01-2014', '25-03-2013',\n",
              "       '17-01-2014', '04-06-2014', '25-03-2014', '31-12-2012',\n",
              "       '19-09-2012', '27-02-2013', '02-10-2012', '09-04-2013',\n",
              "       '02-04-2014', '07-01-2013', '26-11-2013', '04-08-2013',\n",
              "       '17-12-2012', '06-06-2014', '19-05-2013', '12-08-2013',\n",
              "       '15-12-2013', '07-10-2012', '06-09-2013', '15-07-2013',\n",
              "       '27-01-2013', '05-02-2014', '26-12-2012', '06-02-2014',\n",
              "       '14-01-2013', '20-06-2014', '24-08-2013', '28-02-2014',\n",
              "       '07-04-2013', '10-04-2014', '12-06-2014', '30-11-2013',\n",
              "       '09-03-2013', '27-03-2014', '15-12-2012', '17-09-2012',\n",
              "       '02-06-2013', '21-12-2012', '01-11-2013', '10-08-2013',\n",
              "       '11-10-2012', '20-12-2012', '09-01-2014'], dtype=object)"
            ]
          },
          "execution_count": 22,
          "metadata": {},
          "output_type": "execute_result"
        }
      ],
      "source": [
        "df[\"Dt_Customer\"].unique()"
      ]
    },
    {
      "cell_type": "code",
      "execution_count": null,
      "id": "7f7f74c0",
      "metadata": {
        "id": "7f7f74c0",
        "outputId": "85c397fc-3542-4c16-c953-4fffeb1beaac"
      },
      "outputs": [
        {
          "data": {
            "text/plain": [
              "array([58, 38, 26, 94, 16, 34, 32, 19, 68, 11, 59, 82, 53, 23, 51, 20, 91,\n",
              "       86, 41, 42, 63,  0, 69, 89,  4, 96, 56, 31,  8, 55, 37, 76, 99,  3,\n",
              "       88, 80, 72, 24, 92, 39, 29,  2, 54, 57, 30, 12, 18, 75, 90,  1, 25,\n",
              "       40,  9, 87,  5, 95, 48, 70, 79, 45, 84, 44, 43, 35, 15, 17, 46, 27,\n",
              "       74, 85, 65, 13, 83, 10, 21, 61, 73, 47, 36, 49, 28, 64, 98, 78, 77,\n",
              "       81, 14, 52, 93, 50, 60, 66, 97, 62,  6, 33, 67, 22, 71,  7],\n",
              "      dtype=int64)"
            ]
          },
          "execution_count": 23,
          "metadata": {},
          "output_type": "execute_result"
        }
      ],
      "source": [
        "df[\"Recency\"].unique()"
      ]
    },
    {
      "cell_type": "code",
      "execution_count": null,
      "id": "529c768d",
      "metadata": {
        "id": "529c768d",
        "outputId": "ac2472fc-a142-474d-e8b3-999749d9dd4a"
      },
      "outputs": [
        {
          "data": {
            "text/plain": [
              "array([ 88,   1,  49,   4,  43,  42,  65,  10,   0,   5,  16,  61,   2,\n",
              "        14,  22,  80,  17,   3, 100,  12,  34,   8,  76,  11, 164,  18,\n",
              "         6,  50,  19,  37, 120,   9,  51,  35,  26,   7,  40,  59,  36,\n",
              "       107, 111, 105,  23,  60,  46, 172,  81, 106, 194, 115,  44,  99,\n",
              "        90,  48,  27,  33, 133,  58,  28,  21,  20, 162,  71,  66,  30,\n",
              "       189, 138,  29,  24,  32,  86, 114, 153,  64, 134, 148,  47,  41,\n",
              "        84,  74, 129,  15,  98, 183, 147, 144, 104,  91, 163, 152,  53,\n",
              "        68, 137, 190,  38,  70,  96,  25,  13,  83,  92,  73, 155,  54,\n",
              "       151,  85, 127,  63,  45, 103,  69,  89, 181, 112, 159, 102, 123,\n",
              "       166, 142,  79,  39,  31, 178,  93,  97, 168, 174, 122, 199,  62,\n",
              "        55, 101,  67, 117, 108,  57, 130, 161,  56, 124, 126,  75, 185,\n",
              "        72,  87, 197,  82, 184, 160,  77, 140, 131, 132, 169, 193, 149,\n",
              "       143, 154], dtype=int64)"
            ]
          },
          "execution_count": 24,
          "metadata": {},
          "output_type": "execute_result"
        }
      ],
      "source": [
        "df[\"MntFruits\"].unique()"
      ]
    },
    {
      "cell_type": "code",
      "execution_count": null,
      "id": "8821ebad",
      "metadata": {
        "id": "8821ebad"
      },
      "outputs": [],
      "source": [
        "df['Spending'] = df[\"MntWines\"]+df[\"MntFruits\"]+df['MntMeatProducts']+df['MntFishProducts']+df['MntSweetProducts']+df['MntGoldProds']"
      ]
    },
    {
      "cell_type": "code",
      "execution_count": null,
      "id": "413155f0",
      "metadata": {
        "id": "413155f0"
      },
      "outputs": [],
      "source": [
        "df.drop([\"MntWines\"], axis = 1, inplace = True)\n",
        "df.drop([\"MntFruits\"], axis = 1, inplace = True)\n",
        "df.drop([\"MntMeatProducts\"], axis = 1, inplace = True)\n",
        "df.drop([\"MntFishProducts\"], axis = 1, inplace = True)\n",
        "df.drop([\"MntSweetProducts\"], axis = 1, inplace = True)\n",
        "df.drop([\"MntGoldProds\"], axis = 1, inplace = True)"
      ]
    },
    {
      "cell_type": "markdown",
      "id": "e6c1bc0c",
      "metadata": {
        "id": "e6c1bc0c"
      },
      "source": [
        "Checking for null values"
      ]
    },
    {
      "cell_type": "code",
      "execution_count": null,
      "id": "86339be8",
      "metadata": {
        "id": "86339be8",
        "outputId": "68097a76-9c33-47f7-e3c3-a68226b84e27"
      },
      "outputs": [
        {
          "data": {
            "text/plain": [
              "Year_Birth              0\n",
              "Education               0\n",
              "Marital_Status          0\n",
              "Income                 24\n",
              "Dt_Customer             0\n",
              "Recency                 0\n",
              "NumDealsPurchases       0\n",
              "NumWebPurchases         0\n",
              "NumCatalogPurchases     0\n",
              "NumStorePurchases       0\n",
              "NumWebVisitsMonth       0\n",
              "AcceptedCmp3            0\n",
              "AcceptedCmp4            0\n",
              "AcceptedCmp5            0\n",
              "AcceptedCmp1            0\n",
              "AcceptedCmp2            0\n",
              "Complain                0\n",
              "Z_CostContact           0\n",
              "Z_Revenue               0\n",
              "Response                0\n",
              "kidshome                0\n",
              "Spending                0\n",
              "dtype: int64"
            ]
          },
          "execution_count": 27,
          "metadata": {},
          "output_type": "execute_result"
        }
      ],
      "source": [
        "df.isnull().sum()"
      ]
    },
    {
      "cell_type": "markdown",
      "id": "fe54fc0a",
      "metadata": {
        "id": "fe54fc0a"
      },
      "source": [
        "Dropping null values"
      ]
    },
    {
      "cell_type": "code",
      "execution_count": null,
      "id": "d30fe366",
      "metadata": {
        "id": "d30fe366",
        "outputId": "5bd6829d-e20c-4a7b-e5bf-b7c38fc559b8"
      },
      "outputs": [
        {
          "data": {
            "text/plain": [
              "Year_Birth             0\n",
              "Education              0\n",
              "Marital_Status         0\n",
              "Income                 0\n",
              "Dt_Customer            0\n",
              "Recency                0\n",
              "NumDealsPurchases      0\n",
              "NumWebPurchases        0\n",
              "NumCatalogPurchases    0\n",
              "NumStorePurchases      0\n",
              "NumWebVisitsMonth      0\n",
              "AcceptedCmp3           0\n",
              "AcceptedCmp4           0\n",
              "AcceptedCmp5           0\n",
              "AcceptedCmp1           0\n",
              "AcceptedCmp2           0\n",
              "Complain               0\n",
              "Z_CostContact          0\n",
              "Z_Revenue              0\n",
              "Response               0\n",
              "kidshome               0\n",
              "Spending               0\n",
              "dtype: int64"
            ]
          },
          "execution_count": 28,
          "metadata": {},
          "output_type": "execute_result"
        }
      ],
      "source": [
        "df = df.dropna(subset = ['Income'])\n",
        "df.isnull().sum()"
      ]
    },
    {
      "cell_type": "markdown",
      "id": "52417a67",
      "metadata": {
        "id": "52417a67"
      },
      "source": [
        "Checking datatypes of columns and dealing with them"
      ]
    },
    {
      "cell_type": "code",
      "execution_count": null,
      "id": "6d3d2331",
      "metadata": {
        "id": "6d3d2331",
        "outputId": "3e3af476-5806-4c87-ce20-34b925ab6910"
      },
      "outputs": [
        {
          "name": "stdout",
          "output_type": "stream",
          "text": [
            "<class 'pandas.core.frame.DataFrame'>\n",
            "Int64Index: 2216 entries, 0 to 2239\n",
            "Data columns (total 22 columns):\n",
            " #   Column               Non-Null Count  Dtype  \n",
            "---  ------               --------------  -----  \n",
            " 0   Year_Birth           2216 non-null   int64  \n",
            " 1   Education            2216 non-null   object \n",
            " 2   Marital_Status       2216 non-null   object \n",
            " 3   Income               2216 non-null   float64\n",
            " 4   Dt_Customer          2216 non-null   object \n",
            " 5   Recency              2216 non-null   int64  \n",
            " 6   NumDealsPurchases    2216 non-null   int64  \n",
            " 7   NumWebPurchases      2216 non-null   int64  \n",
            " 8   NumCatalogPurchases  2216 non-null   int64  \n",
            " 9   NumStorePurchases    2216 non-null   int64  \n",
            " 10  NumWebVisitsMonth    2216 non-null   int64  \n",
            " 11  AcceptedCmp3         2216 non-null   int64  \n",
            " 12  AcceptedCmp4         2216 non-null   int64  \n",
            " 13  AcceptedCmp5         2216 non-null   int64  \n",
            " 14  AcceptedCmp1         2216 non-null   int64  \n",
            " 15  AcceptedCmp2         2216 non-null   int64  \n",
            " 16  Complain             2216 non-null   int64  \n",
            " 17  Z_CostContact        2216 non-null   int64  \n",
            " 18  Z_Revenue            2216 non-null   int64  \n",
            " 19  Response             2216 non-null   int64  \n",
            " 20  kidshome             2216 non-null   int64  \n",
            " 21  Spending             2216 non-null   int64  \n",
            "dtypes: float64(1), int64(18), object(3)\n",
            "memory usage: 398.2+ KB\n"
          ]
        }
      ],
      "source": [
        "df.info()"
      ]
    },
    {
      "cell_type": "markdown",
      "id": "6b46386f",
      "metadata": {
        "id": "6b46386f"
      },
      "source": [
        "Dealing with the categorial Data"
      ]
    },
    {
      "cell_type": "code",
      "execution_count": null,
      "id": "587cb23f",
      "metadata": {
        "id": "587cb23f"
      },
      "outputs": [],
      "source": [
        "from sklearn.preprocessing import LabelEncoder\n",
        "from sklearn.pipeline import Pipeline\n",
        "le = LabelEncoder()\n",
        "df.Education = le.fit_transform(df.Education)\n",
        "df.Marital_Status = le.fit_transform(df.Marital_Status)\n",
        "df.Dt_Customer = le.fit_transform(df.Dt_Customer)"
      ]
    },
    {
      "cell_type": "code",
      "execution_count": null,
      "id": "fb0b7052",
      "metadata": {
        "id": "fb0b7052",
        "outputId": "0710d104-2566-40f6-d8c1-0079053f2173"
      },
      "outputs": [
        {
          "name": "stdout",
          "output_type": "stream",
          "text": [
            "<class 'pandas.core.frame.DataFrame'>\n",
            "Int64Index: 2216 entries, 0 to 2239\n",
            "Data columns (total 22 columns):\n",
            " #   Column               Non-Null Count  Dtype  \n",
            "---  ------               --------------  -----  \n",
            " 0   Year_Birth           2216 non-null   int64  \n",
            " 1   Education            2216 non-null   int32  \n",
            " 2   Marital_Status       2216 non-null   int32  \n",
            " 3   Income               2216 non-null   float64\n",
            " 4   Dt_Customer          2216 non-null   int32  \n",
            " 5   Recency              2216 non-null   int64  \n",
            " 6   NumDealsPurchases    2216 non-null   int64  \n",
            " 7   NumWebPurchases      2216 non-null   int64  \n",
            " 8   NumCatalogPurchases  2216 non-null   int64  \n",
            " 9   NumStorePurchases    2216 non-null   int64  \n",
            " 10  NumWebVisitsMonth    2216 non-null   int64  \n",
            " 11  AcceptedCmp3         2216 non-null   int64  \n",
            " 12  AcceptedCmp4         2216 non-null   int64  \n",
            " 13  AcceptedCmp5         2216 non-null   int64  \n",
            " 14  AcceptedCmp1         2216 non-null   int64  \n",
            " 15  AcceptedCmp2         2216 non-null   int64  \n",
            " 16  Complain             2216 non-null   int64  \n",
            " 17  Z_CostContact        2216 non-null   int64  \n",
            " 18  Z_Revenue            2216 non-null   int64  \n",
            " 19  Response             2216 non-null   int64  \n",
            " 20  kidshome             2216 non-null   int64  \n",
            " 21  Spending             2216 non-null   int64  \n",
            "dtypes: float64(1), int32(3), int64(18)\n",
            "memory usage: 372.2 KB\n"
          ]
        }
      ],
      "source": [
        "df.info()"
      ]
    },
    {
      "cell_type": "code",
      "execution_count": null,
      "id": "6b3fd717",
      "metadata": {
        "id": "6b3fd717",
        "outputId": "f166c68a-4341-461d-c23f-8f1ec526d9b9"
      },
      "outputs": [
        {
          "data": {
            "text/html": [
              "<div>\n",
              "<style scoped>\n",
              "    .dataframe tbody tr th:only-of-type {\n",
              "        vertical-align: middle;\n",
              "    }\n",
              "\n",
              "    .dataframe tbody tr th {\n",
              "        vertical-align: top;\n",
              "    }\n",
              "\n",
              "    .dataframe thead th {\n",
              "        text-align: right;\n",
              "    }\n",
              "</style>\n",
              "<table border=\"1\" class=\"dataframe\">\n",
              "  <thead>\n",
              "    <tr style=\"text-align: right;\">\n",
              "      <th></th>\n",
              "      <th>Year_Birth</th>\n",
              "      <th>Education</th>\n",
              "      <th>Marital_Status</th>\n",
              "      <th>Income</th>\n",
              "      <th>Dt_Customer</th>\n",
              "      <th>Recency</th>\n",
              "      <th>NumDealsPurchases</th>\n",
              "      <th>NumWebPurchases</th>\n",
              "      <th>NumCatalogPurchases</th>\n",
              "      <th>NumStorePurchases</th>\n",
              "      <th>...</th>\n",
              "      <th>AcceptedCmp4</th>\n",
              "      <th>AcceptedCmp5</th>\n",
              "      <th>AcceptedCmp1</th>\n",
              "      <th>AcceptedCmp2</th>\n",
              "      <th>Complain</th>\n",
              "      <th>Z_CostContact</th>\n",
              "      <th>Z_Revenue</th>\n",
              "      <th>Response</th>\n",
              "      <th>kidshome</th>\n",
              "      <th>Spending</th>\n",
              "    </tr>\n",
              "  </thead>\n",
              "  <tbody>\n",
              "    <tr>\n",
              "      <th>0</th>\n",
              "      <td>1957</td>\n",
              "      <td>0</td>\n",
              "      <td>1</td>\n",
              "      <td>58138.0</td>\n",
              "      <td>80</td>\n",
              "      <td>58</td>\n",
              "      <td>3</td>\n",
              "      <td>8</td>\n",
              "      <td>10</td>\n",
              "      <td>4</td>\n",
              "      <td>...</td>\n",
              "      <td>0</td>\n",
              "      <td>0</td>\n",
              "      <td>0</td>\n",
              "      <td>0</td>\n",
              "      <td>0</td>\n",
              "      <td>3</td>\n",
              "      <td>11</td>\n",
              "      <td>1</td>\n",
              "      <td>0</td>\n",
              "      <td>1617</td>\n",
              "    </tr>\n",
              "    <tr>\n",
              "      <th>1</th>\n",
              "      <td>1954</td>\n",
              "      <td>0</td>\n",
              "      <td>1</td>\n",
              "      <td>46344.0</td>\n",
              "      <td>157</td>\n",
              "      <td>38</td>\n",
              "      <td>2</td>\n",
              "      <td>1</td>\n",
              "      <td>1</td>\n",
              "      <td>2</td>\n",
              "      <td>...</td>\n",
              "      <td>0</td>\n",
              "      <td>0</td>\n",
              "      <td>0</td>\n",
              "      <td>0</td>\n",
              "      <td>0</td>\n",
              "      <td>3</td>\n",
              "      <td>11</td>\n",
              "      <td>0</td>\n",
              "      <td>2</td>\n",
              "      <td>27</td>\n",
              "    </tr>\n",
              "    <tr>\n",
              "      <th>2</th>\n",
              "      <td>1965</td>\n",
              "      <td>0</td>\n",
              "      <td>0</td>\n",
              "      <td>71613.0</td>\n",
              "      <td>444</td>\n",
              "      <td>26</td>\n",
              "      <td>1</td>\n",
              "      <td>8</td>\n",
              "      <td>2</td>\n",
              "      <td>10</td>\n",
              "      <td>...</td>\n",
              "      <td>0</td>\n",
              "      <td>0</td>\n",
              "      <td>0</td>\n",
              "      <td>0</td>\n",
              "      <td>0</td>\n",
              "      <td>3</td>\n",
              "      <td>11</td>\n",
              "      <td>0</td>\n",
              "      <td>0</td>\n",
              "      <td>776</td>\n",
              "    </tr>\n",
              "    <tr>\n",
              "      <th>3</th>\n",
              "      <td>1984</td>\n",
              "      <td>0</td>\n",
              "      <td>0</td>\n",
              "      <td>26646.0</td>\n",
              "      <td>199</td>\n",
              "      <td>26</td>\n",
              "      <td>2</td>\n",
              "      <td>2</td>\n",
              "      <td>0</td>\n",
              "      <td>4</td>\n",
              "      <td>...</td>\n",
              "      <td>0</td>\n",
              "      <td>0</td>\n",
              "      <td>0</td>\n",
              "      <td>0</td>\n",
              "      <td>0</td>\n",
              "      <td>3</td>\n",
              "      <td>11</td>\n",
              "      <td>0</td>\n",
              "      <td>1</td>\n",
              "      <td>53</td>\n",
              "    </tr>\n",
              "    <tr>\n",
              "      <th>4</th>\n",
              "      <td>1981</td>\n",
              "      <td>0</td>\n",
              "      <td>0</td>\n",
              "      <td>58293.0</td>\n",
              "      <td>390</td>\n",
              "      <td>94</td>\n",
              "      <td>5</td>\n",
              "      <td>5</td>\n",
              "      <td>3</td>\n",
              "      <td>6</td>\n",
              "      <td>...</td>\n",
              "      <td>0</td>\n",
              "      <td>0</td>\n",
              "      <td>0</td>\n",
              "      <td>0</td>\n",
              "      <td>0</td>\n",
              "      <td>3</td>\n",
              "      <td>11</td>\n",
              "      <td>0</td>\n",
              "      <td>1</td>\n",
              "      <td>422</td>\n",
              "    </tr>\n",
              "  </tbody>\n",
              "</table>\n",
              "<p>5 rows × 22 columns</p>\n",
              "</div>"
            ],
            "text/plain": [
              "   Year_Birth  Education  Marital_Status   Income  Dt_Customer  Recency  \\\n",
              "0        1957          0               1  58138.0           80       58   \n",
              "1        1954          0               1  46344.0          157       38   \n",
              "2        1965          0               0  71613.0          444       26   \n",
              "3        1984          0               0  26646.0          199       26   \n",
              "4        1981          0               0  58293.0          390       94   \n",
              "\n",
              "   NumDealsPurchases  NumWebPurchases  NumCatalogPurchases  NumStorePurchases  \\\n",
              "0                  3                8                   10                  4   \n",
              "1                  2                1                    1                  2   \n",
              "2                  1                8                    2                 10   \n",
              "3                  2                2                    0                  4   \n",
              "4                  5                5                    3                  6   \n",
              "\n",
              "   ...  AcceptedCmp4  AcceptedCmp5  AcceptedCmp1  AcceptedCmp2  Complain  \\\n",
              "0  ...             0             0             0             0         0   \n",
              "1  ...             0             0             0             0         0   \n",
              "2  ...             0             0             0             0         0   \n",
              "3  ...             0             0             0             0         0   \n",
              "4  ...             0             0             0             0         0   \n",
              "\n",
              "   Z_CostContact  Z_Revenue  Response  kidshome  Spending  \n",
              "0              3         11         1         0      1617  \n",
              "1              3         11         0         2        27  \n",
              "2              3         11         0         0       776  \n",
              "3              3         11         0         1        53  \n",
              "4              3         11         0         1       422  \n",
              "\n",
              "[5 rows x 22 columns]"
            ]
          },
          "execution_count": 32,
          "metadata": {},
          "output_type": "execute_result"
        }
      ],
      "source": [
        "df.head()"
      ]
    },
    {
      "cell_type": "markdown",
      "id": "3f80f7d3",
      "metadata": {
        "id": "3f80f7d3"
      },
      "source": [
        "Constructing Correlation Matrix"
      ]
    },
    {
      "cell_type": "code",
      "execution_count": null,
      "id": "cdc4ff8e",
      "metadata": {
        "id": "cdc4ff8e",
        "outputId": "992a3801-78ae-4c52-da81-ec0fc43cab50"
      },
      "outputs": [
        {
          "data": {
            "image/png": "[encoded data removed]",
            "text/plain": [
              "<Figure size 1080x1080 with 2 Axes>"
            ]
          },
          "metadata": {
            "needs_background": "light"
          },
          "output_type": "display_data"
        }
      ],
      "source": [
        "corr = df.corr()\n",
        "\n",
        "plt.figure(figsize = (15,15))\n",
        "sns.heatmap(corr,annot=True, cmap='cubehelix_r',square=True)\n",
        "plt.show()"
      ]
    },
    {
      "cell_type": "markdown",
      "id": "1ebe0e45",
      "metadata": {
        "id": "1ebe0e45"
      },
      "source": [
        "Elbow Method"
      ]
    },
    {
      "cell_type": "code",
      "execution_count": null,
      "id": "3acc4b44",
      "metadata": {
        "id": "3acc4b44"
      },
      "outputs": [],
      "source": [
        "from scipy.spatial.distance import cdist, pdist\n",
        "from sklearn.cluster import KMeans"
      ]
    },
    {
      "cell_type": "code",
      "execution_count": null,
      "id": "a4e8f0eb",
      "metadata": {
        "id": "a4e8f0eb",
        "outputId": "61099375-1405-4a93-9f39-1a0a3818cfe6"
      },
      "outputs": [
        {
          "data": {
            "text/plain": [
              "[<matplotlib.lines.Line2D at 0x1955fbc32b0>]"
            ]
          },
          "execution_count": 46,
          "metadata": {},
          "output_type": "execute_result"
        },
        {
          "data": {
            "image/png": "[encoded data removed]",
            "text/plain": [
              "<Figure size 432x288 with 1 Axes>"
            ]
          },
          "metadata": {
            "needs_background": "light"
          },
          "output_type": "display_data"
        }
      ],
      "source": [
        "# wss = []\n",
        "\n",
        "# for i in range(1,10):\n",
        "#     KM = KMeans(n_clusters=i, init='k-means++')\n",
        "#     KM.fit(df)\n",
        "#     wss.append(KM.inertia_)\n",
        "\n",
        "# plt.plot(range(1,10),wss,marker='o',markersize=12,markeredgecolor='maroon',markeredgewidth=2,markerfacecolor=None)"
      ]
    },
    {
      "cell_type": "code",
      "execution_count": null,
      "id": "976ccf0c",
      "metadata": {
        "id": "976ccf0c"
      },
      "outputs": [],
      "source": [
        "K = range(1,10)\n",
        "X = df\n",
        "KM = [KMeans(n_clusters=k).fit(X) for k in K]\n",
        "centroids = [k.cluster_centers_ for k in KM]\n",
        "D_k = [cdist(X, cent, 'euclidean') for cent in centroids]\n",
        "cIdx = [np.argmin(D,axis=1) for D in D_k]\n",
        "dist = [np.min(D,axis=1) for D in D_k]\n",
        "avgWithinSS = [sum(d)/X.shape[0] for d in dist]"
      ]
    },
    {
      "cell_type": "code",
      "execution_count": null,
      "id": "76518d6a",
      "metadata": {
        "id": "76518d6a",
        "outputId": "1e948648-bbd4-4e24-9eef-7ad241c715b3"
      },
      "outputs": [
        {
          "data": {
            "image/png": "[encoded data removed]",
            "text/plain": [
              "<Figure size 720x288 with 1 Axes>"
            ]
          },
          "metadata": {
            "needs_background": "light"
          },
          "output_type": "display_data"
        }
      ],
      "source": [
        "kIdx = 2\n",
        "plt.figure(figsize=(10,4))\n",
        "\n",
        "plt.plot(K, avgWithinSS, 'b*-')\n",
        "plt.plot(K[kIdx], avgWithinSS[kIdx], marker='o', markersize=12,\n",
        "markeredgewidth=2, markeredgecolor='r', markerfacecolor='None')\n",
        "plt.xlabel('Number of clusters')\n",
        "plt.ylabel('Average within-cluster sum of squares')\n",
        "plt.title('Elbow for KMeans clustering')\n",
        "\n",
        "plt.show()\n"
      ]
    },
    {
      "cell_type": "code",
      "execution_count": null,
      "id": "3dae255f",
      "metadata": {
        "id": "3dae255f"
      },
      "outputs": [],
      "source": [
        "# KM = KMeans(n_clusters =3,max_iter=100,random_state=10)\n",
        "# Cluster = KM.fit_predict(df)\n",
        "\n",
        "# df['cluster'] = Cluster\n",
        "\n",
        "# x = df[df['cluster']==0].shape[0]\n",
        "# y = df[df['cluster']==1].shape[0]\n",
        "# z = df[df['cluster']==2].shape[0]\n",
        "# print(x,y,z)"
      ]
    },
    {
      "cell_type": "code",
      "execution_count": null,
      "id": "e992043e",
      "metadata": {
        "id": "e992043e",
        "outputId": "ddb1fb8e-8a4f-4768-fc6e-834cfd685673"
      },
      "outputs": [
        {
          "name": "stdout",
          "output_type": "stream",
          "text": [
            "[[1.97086249e+03 1.49695387e-01 3.62924282e-01 3.47658677e+04\n",
            "  3.29841601e+02 4.91053090e+01 2.41601393e+00 2.78067885e+00\n",
            "  8.85117493e-01 3.68146214e+00 6.64751958e+00 8.44212359e-02\n",
            "  2.34986945e-02 8.70322019e-04 3.48128808e-03 3.48128808e-03\n",
            "  1.21845083e-02 3.00000000e+00 1.10000000e+01 1.13141862e-01\n",
            "  1.18798956e+00 1.69557876e+02]\n",
            " [1.96662137e+03 7.68509841e-02 3.45829428e-01 7.10720965e+04\n",
            "  3.26150890e+02 4.89128397e+01 2.22399250e+00 5.49015933e+00\n",
            "  4.59418932e+00 8.08341143e+00 3.88847235e+00 6.18556701e-02\n",
            "  1.28397376e-01 1.50890347e-01 1.29334583e-01 2.43673852e-02\n",
            "  6.56044986e-03 3.00000000e+00 1.10000000e+01 1.90253046e-01\n",
            "  6.87910028e-01 1.07821649e+03]]\n"
          ]
        },
        {
          "data": {
            "text/plain": [
              "array([1, 0, 1, ..., 1, 1, 0])"
            ]
          },
          "execution_count": 39,
          "metadata": {},
          "output_type": "execute_result"
        }
      ],
      "source": [
        "from sklearn.cluster import KMeans\n",
        "\n",
        "kmeans = KMeans(n_clusters= 2)\n",
        "kmeans.fit(df)\n",
        "\n",
        "print(kmeans.cluster_centers_)\n",
        "\n",
        "y = kmeans.predict(df)\n",
        "y"
      ]
    },
    {
      "cell_type": "code",
      "execution_count": null,
      "id": "9b6a7b2b",
      "metadata": {
        "id": "9b6a7b2b",
        "outputId": "67c7d115-379d-41d7-da36-4562c9d2569f"
      },
      "outputs": [
        {
          "data": {
            "text/plain": [
              "array([1, 0, 1, ..., 1, 1, 0])"
            ]
          },
          "execution_count": 40,
          "metadata": {},
          "output_type": "execute_result"
        }
      ],
      "source": [
        "labels = kmeans.labels_\n",
        "labels"
      ]
    },
    {
      "cell_type": "code",
      "execution_count": null,
      "id": "a2dc49fd",
      "metadata": {
        "id": "a2dc49fd",
        "outputId": "e0aa6e5a-ad97-4943-d0e6-f71358aec816"
      },
      "outputs": [
        {
          "data": {
            "image/png": "[encoded data removed]",
            "text/plain": [
              "<Figure size 432x288 with 1 Axes>"
            ]
          },
          "metadata": {
            "needs_background": "light"
          },
          "output_type": "display_data"
        }
      ],
      "source": [
        "sns.countplot(x = labels,palette = \"Greens\")\n",
        "plt.show()"
      ]
    },
    {
      "cell_type": "code",
      "execution_count": null,
      "id": "7e69f101",
      "metadata": {
        "id": "7e69f101"
      },
      "outputs": [],
      "source": [
        "from sklearn.metrics import silhouette_score\n",
        "from matplotlib import cm"
      ]
    },
    {
      "cell_type": "code",
      "execution_count": null,
      "id": "d2fa6629",
      "metadata": {
        "id": "d2fa6629"
      },
      "outputs": [],
      "source": [
        "# plt.figure(figsize=(20,20))\n",
        "# data_arr = np.array(df)\n",
        "# plt.scatter(data_arr[Cluster==0,0],data_arr[Cluster==0,1],data_arr[Cluster==0,2],c='green',label='Cluster 1')\n",
        "# plt.scatter(data_arr[Cluster==1,0],data_arr[Cluster==1,1],data_arr[Cluster==1,2],c='red',label='Cluster 2')\n",
        "# plt.scatter(data_arr[Cluster==2,0],data_arr[Cluster==2,1],data_arr[Cluster==2,2],c='blue',label='Cluster 3')\n",
        "# plt.scatter(data_arr[Cluster==3,0],data_arr[Cluster==3,1],data_arr[Cluster==3,2],c='violet',label='Cluster 4')\n",
        "# plt.scatter(KM.cluster_centers_[:,0],KM.cluster_centers_[:,1],c='maroon',label='Centroids')\n",
        "\n",
        "# plt.show()"
      ]
    },
    {
      "cell_type": "code",
      "execution_count": null,
      "id": "48b17480",
      "metadata": {
        "id": "48b17480",
        "outputId": "4694fe56-f655-45ef-a527-df7d8ad2c5bd"
      },
      "outputs": [
        {
          "data": {
            "text/plain": [
              "0.6012233544512071"
            ]
          },
          "execution_count": 44,
          "metadata": {},
          "output_type": "execute_result"
        }
      ],
      "source": [
        "silhouette_score(df,y)"
      ]
    },
    {
      "cell_type": "code",
      "execution_count": null,
      "id": "4237d77b",
      "metadata": {
        "scrolled": true,
        "id": "4237d77b",
        "outputId": "58e49006-0cef-4e24-fd9f-0a6d431e5afb"
      },
      "outputs": [
        {
          "data": {
            "image/png": "[encoded data removed]",
            "text/plain": [
              "<Figure size 720x720 with 1 Axes>"
            ]
          },
          "metadata": {
            "needs_background": "light"
          },
          "output_type": "display_data"
        }
      ],
      "source": [
        "plt.figure(figsize=(10,10))\n",
        "data_arr = np.array(df)\n",
        "plt.scatter(data_arr[:,0],data_arr[:,1],data_arr[:,2],c='green',label='Cluster 1')\n",
        "plt.scatter(data_arr[:,3],data_arr[:,4],data_arr[:,5],c='red',label='Cluster 2')\n",
        "plt.scatter(KM.cluster_centers_[:,0],KM.cluster_centers_[:,1],c='maroon',label='Centroids')\n",
        "plt.show()"
      ]
    },
    {
      "cell_type": "code",
      "execution_count": null,
      "id": "911f746e",
      "metadata": {
        "id": "911f746e",
        "outputId": "e2f8a91c-92b1-41dc-8a57-2f8bb2a941de"
      },
      "outputs": [
        {
          "data": {
            "text/plain": [
              "array([[1.957e+03, 0.000e+00, 1.000e+00, ..., 1.000e+00, 0.000e+00,\n",
              "        1.617e+03],\n",
              "       [1.954e+03, 0.000e+00, 1.000e+00, ..., 0.000e+00, 2.000e+00,\n",
              "        2.700e+01],\n",
              "       [1.965e+03, 0.000e+00, 0.000e+00, ..., 0.000e+00, 0.000e+00,\n",
              "        7.760e+02],\n",
              "       ...,\n",
              "       [1.981e+03, 0.000e+00, 1.000e+00, ..., 0.000e+00, 0.000e+00,\n",
              "        1.241e+03],\n",
              "       [1.956e+03, 0.000e+00, 0.000e+00, ..., 0.000e+00, 1.000e+00,\n",
              "        8.430e+02],\n",
              "       [1.954e+03, 0.000e+00, 0.000e+00, ..., 1.000e+00, 2.000e+00,\n",
              "        1.720e+02]])"
            ]
          },
          "execution_count": 56,
          "metadata": {},
          "output_type": "execute_result"
        }
      ],
      "source": [
        "data_arr = np.array(df)\n",
        "data_arr"
      ]
    },
    {
      "cell_type": "code",
      "execution_count": null,
      "id": "57d544ee",
      "metadata": {
        "id": "57d544ee"
      },
      "outputs": [],
      "source": [
        ""
      ]
    }
  ],
  "metadata": {
    "kernelspec": {
      "display_name": "Python 3 (ipykernel)",
      "language": "python",
      "name": "python3"
    },
    "language_info": {
      "codemirror_mode": {
        "name": "ipython",
        "version": 3
      },
      "file_extension": ".py",
      "mimetype": "text/x-python",
      "name": "python",
      "nbconvert_exporter": "python",
      "pygments_lexer": "ipython3",
      "version": "3.9.7"
    },
    "colab": {
      "name": "Customer Personality Analysis.ipynb",
      "provenance": []
    }
  },
  "nbformat": 4,
  "nbformat_minor": 5
}